{
  "nbformat": 4,
  "nbformat_minor": 0,
  "metadata": {
    "colab": {
      "provenance": []
    },
    "kernelspec": {
      "name": "python3",
      "display_name": "Python 3"
    },
    "language_info": {
      "name": "python"
    }
  },
  "cells": [
    {
      "cell_type": "markdown",
      "source": [
        "# Data Types and Structures Questions\n"
      ],
      "metadata": {
        "id": "XRDvsP0B4VPl"
      }
    },
    {
      "cell_type": "markdown",
      "source": [
        "1. What are data structures, and why are they important?\n",
        "   - Data structures are specified formats for organizing, storing, and processing data within a computer system, allowing for efficient data access, manipulation, and retrieval. They are important because they simplify complex tasks by structuring data in a way that minimizes time and memory requirements, which is crucial for developing efficient and high-performing software applications.\n",
        "2.  Explain the difference between mutable and immutable data types with examples.\n",
        "    - Mutable and immutable data types differ in whether their values can be changed after they are created.\n",
        "\n",
        "      Mutable Data Types:\n",
        "      Mutable data types are those whose values can be modified in place after they have been initialized. When a mutable object is changed, its memory address remains the same, and the existing object is altered.\n",
        "      Examples: Lists, Dictionaries, Sets in Python.   \n",
        "      \n",
        "      Immutable Data Types:\n",
        "      Immutable data types are those whose values cannot be changed once they are created. Any operation that appears to modify an immutable object actually creates a new object with the desired changes, leaving the original object untouched.\n",
        "      Examples: Integers, Floats, Strings, Tuples in Python.\n",
        "3. What are the main differences between lists and tuples in Python?\n",
        "    - The main differences between lists and tuples in Python center around their mutability\n",
        "     \n",
        "      Lists are mutable: This means their elements can be changed (added, removed, or modified) after the list has been created.\n",
        "     \n",
        "      Tuples are immutable: Once a tuple is created, its elements cannot be changed. New tuples can be created by combining or modifying existing ones, but the original tuple remains unchanged.\n",
        "4. Describe how dictionaries store data.\n",
        "   - Key-Value Pairs: The fundamental unit of storage in a dictionary is a key-value pair. Each unique key maps to a specific value.\n",
        "   \n",
        "     Keys: Keys are used to uniquely identify and access values. They must be immutable (e.g., strings, numbers, tuples) to ensure their hash value remains constant, which is crucial for efficient lookup. Keys within a single dictionary must be unique.\n",
        "     \n",
        "     Values: Values are the data associated with each key. Values can be of any data type and can be duplicated across different keys.\n",
        "5. Why might you use a set instead of a list in Python?\n",
        "   - You might choose to use a Python set instead of a list in Python for several key reasons, primarily related to their fundamental differences in how they store and manage data:\n",
        "  \n",
        "     *Uniqueness of Elements\n",
        "     \n",
        "     *Efficient Membership Testing\n",
        "     \n",
        "     *Mathematical Set Operations\n",
        "     \n",
        "     *No Order Requirement\n",
        "6. What is a string in Python, and how is it different from a list?\n",
        "   - In Python, a string is an ordered sequence of characters, used to represent text. Strings are immutable, meaning their contents cannot be changed after creation. They are defined by enclosing characters within single quotes ('...'), double quotes (\"...\"), or triple quotes ('''...''' or \"\"\"...\"\"\").\n",
        "\n",
        "     *Mutability:\n",
        "\n",
        "     Strings are immutable: Individual characters within a string cannot be changed. Any operation that appears to modify a string actually creates a new string.\n",
        "   \n",
        "     Lists are mutable: Elements within a list can be added, removed, or modified directly.\n",
        "   \n",
        "     *Content:\n",
        "\n",
        "     Strings contain characters: They are specifically designed for textual data.\n",
        "   \n",
        "     Lists can contain any data type: They are general-purpose containers for heterogeneous collections of items.\n",
        "   \n",
        "     *Representation:\n",
        "\n",
        "     Strings are enclosed in quotes: ('...', \"...\", '''...''', \"\"\"...\"\"\").\n",
        "   \n",
        "     Lists are enclosed in square brackets: ([...]).\n",
        "\n",
        "     *Operations:\n",
        "   \n",
        "     While both support indexing and slicing, lists have methods for modification (e.g., append(), remove(), sort()), whereas string methods typically return new strings (e.g., upper(), replace()).\n",
        "7. How do tuples ensure data integrity in Python?\n",
        "   - Here's how this immutability contributes to data integrity:\n",
        "\n",
        "     *Preventing Accidental Modification: The most direct benefit is that it prevents unintentional changes to the data. If you have a set of values that should remain constant throughout your program's execution (e.g., configuration settings, fixed coordinates, or a person's birth date), storing them in a tuple guarantees that they won't be altered by other parts of the code.\n",
        "\n",
        "     *Thread Safety: In multi-threaded environments, mutable data structures can lead to race conditions and unexpected behavior if multiple threads try to modify the same data simultaneously. Since tuples are immutable, they are inherently thread-safe in this regard, as their contents cannot be changed after creation.\n",
        "\n",
        "     *Hashability: Because tuples are immutable, they are hashable. This allows them to be used as keys in dictionaries, which require immutable objects for their keys to ensure that the hash value of the key remains consistent. This is crucial for efficient dictionary operations and maintaining data integrity within dictionaries.\n",
        "\n",
        "     *Predictability and Reliability: The fixed nature of tuples makes your code more predictable and reliable. You can be confident that data stored in a tuple will remain in its original state, simplifying debugging and reasoning about program behavior.\n",
        "8. What is a hash table, and how does it relate to dictionaries in Python?\n",
        "   - A hash table is a data structure that implements an associative array, also known as a dictionary or map. It stores data in key-value pairs, allowing for efficient retrieval of values based on their associated keys. The core principle of a hash table involves using a hash function to convert a key into an index within an underlying array. This index then points to the location where the corresponding value is stored.\n",
        "\n",
        "     How it works:\n",
        "     \n",
        "     *Hash Function: When a key-value pair is inserted, the key is passed through a hash function, which produces an integer (the hash value).\n",
        "     \n",
        "     *Index Calculation: This hash value is then typically used to calculate an index within an array (e.g., using the modulo operator to ensure the index falls within the array's bounds).\n",
        "     \n",
        "     *Storage: The key-value pair is stored at that calculated index in the array.\n",
        "     \n",
        "     *Retrieval: To retrieve a value, the same hash function is applied to the key, generating the same index, allowing for direct access to the stored value.\n",
        "     \n",
        "     *Collision Handling: Since different keys can sometimes produce the same hash value (a \"collision\"), hash tables employ strategies like separate chaining (using linked lists at each index) or open addressing to resolve these conflicts.\n",
        "9. Can lists contain different data types in Python?\n",
        "   - Yes, Python lists can contain elements of different data types. This is a key feature that distinguishes them from arrays in some other programming languages, which typically require all elements to be of the same type.\n",
        "   \n",
        "     A single Python list can simultaneously hold integers, floats, strings, booleans, other lists, dictionaries, or any other valid Python object.\n",
        "10. Explain why strings are immutable in Python.\n",
        "    - Strings are immutable in python because:\n",
        "\n",
        "      *Safety and Predictability: Immutability ensures that a string's value remains constant throughout its lifetime. If strings were mutable, modifying a string referenced by multiple variables could lead to unexpected side effects and data inconsistencies in other parts of the code.\n",
        "     \n",
        "      *Hashing and Dictionary Keys: Immutable objects can be reliably hashed, meaning a unique integer can be generated based on their content. This constant hash value is crucial for using strings as keys in dictionaries (hash maps), as the hash value must not change during the object's lifetime to ensure efficient lookups.\n",
        "     \n",
        "      *Performance Optimization: Knowing that strings are immutable allows Python to perform various optimizations. For example, it can safely reuse or \"intern\" identical string objects in memory, reducing memory consumption. When performing string operations like concatenation, Python can also optimize by allocating memory for the new string only once, rather than repeatedly resizing an existing mutable string.\n",
        "     \n",
        "      *Thread Safety: In multithreaded environments, immutable strings are inherently thread-safe because multiple threads can access the same string without the risk of one thread modifying it while another is reading it, preventing race conditions and ensuring data integrity.\n",
        "11. What advantages do dictionaries offer over lists for certain tasks?\n",
        "    - Dictionaries offer significant advantages over lists for tasks that involve fast, flexible lookup, and storing data with specific labels. The core difference lies in how data is accessed: dictionaries use unique, named keys, while lists use integer-based indices. This distinction impacts performance, readability, and the logical structure of your data.\n",
        "12. Describe a scenario where using a tuple would be preferable over a list.\n",
        "    - A scenario where using a tuple would be preferable over a list is when representing fixed, immutable data structures where the order and integrity of the elements are crucial and should not be modified after creation.\n",
        "     \n",
        "      Consider a program that needs to store the RGB color values for a set of predefined colors, such as RED, GREEN, and BLUE. Each color is represented by a combination of three integer values (Red, Green, Blue). These values should remain constant throughout the program's execution, as they define the fundamental properties of these colors.\n",
        "13. How do sets handle duplicate values in Python?\n",
        "    - Python sets are inherently designed to store only unique elements. They do not allow duplicate values. When you attempt to add an element that already exists in a set, the set simply ignores the addition, and the set remains unchanged.\n",
        "14. How does the “in” keyword work differently for lists and dictionaries?\n",
        "    - The in keyword in Python functions differently when used with lists and dictionaries due to their underlying data structures and how membership is defined for each.\n",
        "     \n",
        "      For Lists:\n",
        "     \n",
        "      When in is used with a list, it checks for the presence of a value within the list's elements.\n",
        "      \n",
        "      The operation involves iterating through the list, comparing each element to the value being searched for. This is a linear search, and its time complexity is O(n) in the worst case, where 'n' is the number of elements in the list.\n",
        "\n",
        "      For Dictionaries:\n",
        "      \n",
        "      When in is used with a dictionary, it checks for the presence of a key within the dictionary's keys. It does not directly check for values.\n",
        "      \n",
        "      Dictionaries are implemented using hash tables, which allows for very efficient lookups. The time complexity for checking key membership with in is, on average, O(1) (constant time). In the worst-case scenario (due to hash collisions), it can degrade to O(n), but this is rare.\n",
        "      \n",
        "      To check for the presence of a value in a dictionary, one must explicitly access the dictionary's values using .values() and then use in on the resulting view object.\n",
        "15. Can you modify the elements of a tuple? Explain why or why not.\n",
        "    - No, the elements of a tuple cannot be modified directly after the tuple has been created. Tuples are immutable data structures in Python.\n",
        "    \n",
        "      Why Immutability?\n",
        "     \n",
        "      Data Integrity: Immutability ensures that the data stored in a tuple remains constant, preventing accidental or unintended modifications. This is beneficial for representing fixed data sets like coordinates, configuration settings, or database records where the values should not change.\n",
        "     \n",
        "      Hashability: Immutable objects can be \"hashed,\" meaning they can be used as keys in dictionaries or elements in sets. This is because their hash value, which is derived from their content, will always remain the same. Mutable objects cannot be hashed.\n",
        "     \n",
        "      Thread Safety: In multi-threaded environments, immutable objects are inherently thread-safe because their state cannot be changed by multiple threads concurrently, eliminating the need for complex locking mechanisms.\n",
        "16. What is a nested dictionary, and give an example of its use case?\n",
        "    - A nested dictionary is a dictionary where the value associated with a key is another dictionary. This allows for the creation of hierarchical data structures, where data can be organized in multiple levels of key-value pairs.\n",
        "     \n",
        "      Example of its use case:\n",
        "     \n",
        "      Consider a scenario where you need to store information about multiple employees in an organization, including their personal details and professional roles. A nested dictionary can effectively represent this complex data.\n",
        "17. Describe the time complexity of accessing elements in a dictionary.\n",
        "    - The time complexity of accessing elements in a dictionary, such as in Python, is generally O(1) on average. This means that the time taken to retrieve a value associated with a given key is constant, regardless of the size of the dictionary.\n",
        "      \n",
        "      This efficiency stems from the underlying implementation of dictionaries as hash tables. When a key-value pair is added to a dictionary:\n",
        "      \n",
        "      A hash function is applied to the key, producing an integer hash value.\n",
        "      \n",
        "      This hash value is then used to determine a specific \"bucket\" or memory location where the key-value pair will be stored.\n",
        "18. In what situations are lists preferred over dictionaries?\n",
        "    - Lists are preferred over dictionaries in situations where:\n",
        "      \n",
        "      Order of elements is important: Lists maintain the insertion order of elements, making them suitable when the sequence of items is significant, such as a list of steps in a process or a chronological log of events.\n",
        "      \n",
        "      Accessing elements by numerical index: When elements are naturally accessed by their position (e.g., the first item, the fifth item), lists provide efficient, direct access via integer indices.\n",
        "      \n",
        "      Storing a collection of items without unique identifiers: If the data consists of a group of related items where individual items don't require a unique key for retrieval, a list is a simpler and often more memory-efficient choice.\n",
        "      \n",
        "      Performing sequence-based operations: Operations like slicing, appending, extending, and iterating through elements in a specific order are natural and efficient with lists.\n",
        "      \n",
        "      Memory efficiency is a concern for simple collections: For storing simple sequences of data, lists generally consume less memory than dictionaries, especially when the overhead of storing keys in a dictionary is not justified by the need for key-based lookups.\n",
        "      \n",
        "      Data contains duplicate values: Lists readily accommodate duplicate elements, which is not possible for dictionary keys, as keys must be unique.\n",
        "19. Why are dictionaries considered unordered, and how does that affect data retrieval?\n",
        "    - Dictionaries are considered \"unordered\" because, historically and by design, their primary purpose is fast, key-based access, not maintaining the order of insertion or any other sequence, though Python 3.7+ preserves insertion order as an implementation detail. This unordered nature means you cannot rely on a specific sequence when iterating or printing items, and data retrieval is always based on the unique key, not a positional index.\n",
        "\n",
        "      it affects data retrieval because\n",
        "      \n",
        "      Access by Key: Data is always retrieved using its unique key, not its position. For example, to get a value, you must know the corresponding key, such as my_dictionary['apple'].\n",
        "      \n",
        "      No Order Guarantees (Conceptually): Even though modern Python dictionaries maintain insertion order, you should not depend on this for the overall function of the data structure. When iterating through a dictionary, the order of elements may not be predictable or match the insertion order in contexts where insertion order isn't relevant.\n",
        "      \n",
        "      Fast Lookups: The primary benefit of this design is speed. Hashing (using a function to convert the key into an index) allows for very fast retrieval of values associated with a given key.\n",
        "20. Explain the difference between a list and a dictionary in terms of data retrieval.\n",
        "    - Retrieval from a list\n",
        "      \n",
        "      Mechanism: Data is retrieved by its numerical position, or index, which starts at 0 for the first item.\n",
        "      \n",
        "      Best use case: Lists are best when you need to access or iterate through items in a specific, ordered sequence. Retrieving an element at a known index is very fast.\n",
        "      \n",
        "      Search performance: If you do not know the index, you must search through the list element by element to find a specific value. This can be slow, especially with large lists, because the lookup time grows linearly with the size of the list (an average time complexity of \\(O(n)\\)).\n",
        "\n",
        "      Retrieval from a dictionary\n",
        "      \n",
        "      Mechanism: Data is retrieved by a unique key that is mapped to a value. Keys can be various immutable data types, such as strings or numbers, not just integers.\n",
        "      \n",
        "      Best use case: Dictionaries are ideal for storing and retrieving large amounts of data based on a specific identifier, similar to a database lookup.\n",
        "      \n",
        "      Search performance: Data lookup is exceptionally fast, with an average time complexity of \\(O(1)\\). This is because dictionaries use a hash function to map keys directly to a storage location, so the retrieval time is constant regardless of the dictionary's size."
      ],
      "metadata": {
        "id": "hho9_e2U5Ft7"
      }
    },
    {
      "cell_type": "markdown",
      "source": [
        "# Practical Questions\n"
      ],
      "metadata": {
        "id": "A1QGoZX-O2G1"
      }
    },
    {
      "cell_type": "code",
      "source": [
        "# Write a code to create a string with your name and print it.\n",
        "\n",
        "'''\n",
        "name = \"Aditya\"\n",
        "print(name)\n",
        "'''"
      ],
      "metadata": {
        "colab": {
          "base_uri": "https://localhost:8080/",
          "height": 36
        },
        "id": "_7oSJenhOv0Y",
        "outputId": "7f04057f-97cf-4c0c-a4db-eedb3642df54"
      },
      "execution_count": null,
      "outputs": [
        {
          "output_type": "execute_result",
          "data": {
            "text/plain": [
              "'\\nname = \"Aditya\"\\nprint(name)\\n'"
            ],
            "application/vnd.google.colaboratory.intrinsic+json": {
              "type": "string"
            }
          },
          "metadata": {},
          "execution_count": 1
        }
      ]
    },
    {
      "cell_type": "code",
      "source": [
        "# Write a code to find the length of the string \"Hello World\".\n",
        "\n",
        "'''\n",
        "string = \"Hello World\"\n",
        "print(len(string))\n",
        "'''"
      ],
      "metadata": {
        "colab": {
          "base_uri": "https://localhost:8080/",
          "height": 36
        },
        "id": "lkceyEMGQz1b",
        "outputId": "e2daa19e-dcf9-46ca-ec0b-f8422ab4df1e"
      },
      "execution_count": null,
      "outputs": [
        {
          "output_type": "execute_result",
          "data": {
            "text/plain": [
              "'\\nstring = \"Hello World\"\\nprint(len(string))\\n'"
            ],
            "application/vnd.google.colaboratory.intrinsic+json": {
              "type": "string"
            }
          },
          "metadata": {},
          "execution_count": 2
        }
      ]
    },
    {
      "cell_type": "code",
      "source": [
        "# Write a code to slice the first 3 characters from the string \"Python Programming\".\n",
        "\n",
        "'''\n",
        "my_string = \"Python Programming\"\n",
        "sliced_string = my_string[0:3]\n",
        "print(sliced_string)\n",
        "'''"
      ],
      "metadata": {
        "colab": {
          "base_uri": "https://localhost:8080/",
          "height": 36
        },
        "id": "gVEE6qi8Q-z5",
        "outputId": "4e2342f0-1a4f-4607-be00-b84b95eafb9b"
      },
      "execution_count": null,
      "outputs": [
        {
          "output_type": "execute_result",
          "data": {
            "text/plain": [
              "'\\nmy_string = \"Python Programming\"\\nsliced_string = my_string[0:3]\\nprint(sliced_string)\\n'"
            ],
            "application/vnd.google.colaboratory.intrinsic+json": {
              "type": "string"
            }
          },
          "metadata": {},
          "execution_count": 3
        }
      ]
    },
    {
      "cell_type": "code",
      "source": [
        "# Write a code to convert the string \"hello\" to uppercase.\n",
        "\n",
        "'''\n",
        "my_string = \"hello\"\n",
        "print(my_string.upper())\n",
        "'''"
      ],
      "metadata": {
        "colab": {
          "base_uri": "https://localhost:8080/",
          "height": 36
        },
        "id": "1D8OLGmTRuRW",
        "outputId": "576efd4c-d380-4593-e30a-a36ba8f3ed23"
      },
      "execution_count": null,
      "outputs": [
        {
          "output_type": "execute_result",
          "data": {
            "text/plain": [
              "'\\nmy_string = \"hello\"\\nprint(my_string.upper())\\n'"
            ],
            "application/vnd.google.colaboratory.intrinsic+json": {
              "type": "string"
            }
          },
          "metadata": {},
          "execution_count": 4
        }
      ]
    },
    {
      "cell_type": "code",
      "source": [
        "# Write a code to replace the word \"apple\" with \"orange\" in the string \"I like apple\".\n",
        "\n",
        "'''\n",
        "my_string = \"I like apple\"\n",
        "print(my_string.replace(\"apple\", \"orange\"))\n",
        "'''"
      ],
      "metadata": {
        "colab": {
          "base_uri": "https://localhost:8080/",
          "height": 36
        },
        "id": "9qWjD39nR2o8",
        "outputId": "bcdd8d2a-61ae-4945-f491-56c53785e5af"
      },
      "execution_count": null,
      "outputs": [
        {
          "output_type": "execute_result",
          "data": {
            "text/plain": [
              "'\\nmy_string = \"I like apple\"\\nprint(my_string.replace(\"apple\", \"orange\"))\\n'"
            ],
            "application/vnd.google.colaboratory.intrinsic+json": {
              "type": "string"
            }
          },
          "metadata": {},
          "execution_count": 5
        }
      ]
    },
    {
      "cell_type": "code",
      "source": [
        "# Write a code to create a list with numbers 1 to 5 and print it.\n",
        "\n",
        "'''\n",
        "my_list = [1, 2, 3, 4, 5]\n",
        "print(my_list)\n",
        "'''"
      ],
      "metadata": {
        "colab": {
          "base_uri": "https://localhost:8080/",
          "height": 36
        },
        "id": "JIO57fq3SHH2",
        "outputId": "ea01097c-6157-4099-900e-536d40cc7d13"
      },
      "execution_count": null,
      "outputs": [
        {
          "output_type": "execute_result",
          "data": {
            "text/plain": [
              "'\\nmy_list = [1, 2, 3, 4, 5]\\nprint(my_list)\\n'"
            ],
            "application/vnd.google.colaboratory.intrinsic+json": {
              "type": "string"
            }
          },
          "metadata": {},
          "execution_count": 6
        }
      ]
    },
    {
      "cell_type": "code",
      "source": [
        "# Write a code to append the number 10 to the list [1, 2, 3, 4].\n",
        "\n",
        "'''\n",
        "my_list = [1, 2, 3, 4]\n",
        "my_list.append(10)\n",
        "print(my_list)\n",
        "'''"
      ],
      "metadata": {
        "colab": {
          "base_uri": "https://localhost:8080/",
          "height": 36
        },
        "id": "Kfhof4seS1Hi",
        "outputId": "26c15f6a-d3c5-4aad-ab96-6c582ff1d546"
      },
      "execution_count": null,
      "outputs": [
        {
          "output_type": "execute_result",
          "data": {
            "text/plain": [
              "'\\nmy_list = [1, 2, 3, 4]\\nmy_list.append(10)\\nprint(my_list)\\n'"
            ],
            "application/vnd.google.colaboratory.intrinsic+json": {
              "type": "string"
            }
          },
          "metadata": {},
          "execution_count": 7
        }
      ]
    },
    {
      "cell_type": "code",
      "source": [
        "# Write a code to remove the number 3 from the list [1, 2, 3, 4, 5].\n",
        "\n",
        "'''\n",
        "my_list = [1, 2, 3, 4, 5]\n",
        "my_list.remove(3)\n",
        "print(my_list)\n",
        "'''"
      ],
      "metadata": {
        "colab": {
          "base_uri": "https://localhost:8080/",
          "height": 36
        },
        "id": "DWaR9i3mTJKL",
        "outputId": "f00b4e13-d10f-4a2d-af6b-c3d5da231e41"
      },
      "execution_count": null,
      "outputs": [
        {
          "output_type": "execute_result",
          "data": {
            "text/plain": [
              "'\\nmy_list = [1, 2, 3, 4, 5]\\nmy_list.remove(3)\\nprint(my_list)\\n'"
            ],
            "application/vnd.google.colaboratory.intrinsic+json": {
              "type": "string"
            }
          },
          "metadata": {},
          "execution_count": 8
        }
      ]
    },
    {
      "cell_type": "code",
      "source": [
        "# Write a code to access the second element in the list ['a', 'b', 'c', 'd'].\n",
        "\n",
        "'''\n",
        "my_list = ['a', 'b', 'c', 'd',]\n",
        "print(my_list(1))\n",
        "'''"
      ],
      "metadata": {
        "colab": {
          "base_uri": "https://localhost:8080/",
          "height": 36
        },
        "id": "5CK-gshtTYmA",
        "outputId": "31523c3a-eb9c-481a-c521-74c3394b1852"
      },
      "execution_count": null,
      "outputs": [
        {
          "output_type": "execute_result",
          "data": {
            "text/plain": [
              "\"\\nmy_list = ['a', 'b', 'c', 'd',]\\nprint(my_list(1))\\n\""
            ],
            "application/vnd.google.colaboratory.intrinsic+json": {
              "type": "string"
            }
          },
          "metadata": {},
          "execution_count": 12
        }
      ]
    },
    {
      "cell_type": "code",
      "source": [
        "# Write a code to reverse the list [10, 20, 30, 40, 50].\n",
        "\n",
        "'''\n",
        "my_list = [10, 20, 30, 40, 50]\n",
        "my_list.reverse\n",
        "print(my_list)\n",
        "'''"
      ],
      "metadata": {
        "colab": {
          "base_uri": "https://localhost:8080/",
          "height": 36
        },
        "id": "fEFA0Hl8T0v5",
        "outputId": "73fd1d28-065d-4049-9b6d-602945e5c9ef"
      },
      "execution_count": null,
      "outputs": [
        {
          "output_type": "execute_result",
          "data": {
            "text/plain": [
              "'\\nmy_list = [10, 20, 30, 40, 50]\\nmy_list.reverse\\nprint(my_list)\\n'"
            ],
            "application/vnd.google.colaboratory.intrinsic+json": {
              "type": "string"
            }
          },
          "metadata": {},
          "execution_count": 14
        }
      ]
    },
    {
      "cell_type": "code",
      "source": [
        "# Write a code to create a tuple with the elements 100, 200, 300 and print it.\n",
        "\n",
        "'''\n",
        "my_tuple = (100, 200, 300)\n",
        "print(my_tuple)\n",
        "'''"
      ],
      "metadata": {
        "id": "c8eL5ImrUS9u",
        "colab": {
          "base_uri": "https://localhost:8080/",
          "height": 36
        },
        "outputId": "b319f5d3-a159-496c-867e-1be9d8808f79"
      },
      "execution_count": 1,
      "outputs": [
        {
          "output_type": "execute_result",
          "data": {
            "text/plain": [
              "'\\nmy_tuple = (100, 200, 300)\\nprint(my_tuple)\\n'"
            ],
            "application/vnd.google.colaboratory.intrinsic+json": {
              "type": "string"
            }
          },
          "metadata": {},
          "execution_count": 1
        }
      ]
    },
    {
      "cell_type": "code",
      "source": [
        "# Write a code to access the second-to-last element of the tuple ('red', 'green', 'blue', 'yellow').\n",
        "\n",
        "'''\n",
        "my_tuple = ('red, 'green', 'blue', 'yellow')\n",
        "print(my_tuple(-2))\n",
        "'''"
      ],
      "metadata": {
        "colab": {
          "base_uri": "https://localhost:8080/",
          "height": 36
        },
        "id": "CIHD0tHpIEdE",
        "outputId": "af7dcf68-14d7-41a1-be5f-605df90c286f"
      },
      "execution_count": 2,
      "outputs": [
        {
          "output_type": "execute_result",
          "data": {
            "text/plain": [
              "\"\\nmy_tuple = ('red, 'green', 'blue', 'yellow')\\nprint(my_tuple(-2))\\n\""
            ],
            "application/vnd.google.colaboratory.intrinsic+json": {
              "type": "string"
            }
          },
          "metadata": {},
          "execution_count": 2
        }
      ]
    },
    {
      "cell_type": "code",
      "source": [
        "#  Write a code to find the minimum number in the tuple (10, 20, 5, 15).\n",
        "\n",
        "'''\n",
        "my_tuple = (10, 20, 5, 15)\n",
        "print(min(my_tuple))\n",
        "'''"
      ],
      "metadata": {
        "colab": {
          "base_uri": "https://localhost:8080/",
          "height": 36
        },
        "id": "lKvlubq3IfAL",
        "outputId": "75748554-0eb3-4c34-f0db-0a9dbc0b4051"
      },
      "execution_count": 3,
      "outputs": [
        {
          "output_type": "execute_result",
          "data": {
            "text/plain": [
              "'\\nmy_tuple = (10, 20, 5, 15)\\nprint(min(my_tuple))\\n'"
            ],
            "application/vnd.google.colaboratory.intrinsic+json": {
              "type": "string"
            }
          },
          "metadata": {},
          "execution_count": 3
        }
      ]
    },
    {
      "cell_type": "code",
      "source": [
        "# Write a code to find the index of the element \"cat\" in the tuple ('dog', 'cat', 'rabbit').\n",
        "\n",
        "'''\n",
        "my_tuple('dog', 'cat', 'rabbit')\n",
        "print(my_tuple.index('cat'))\n",
        "'''"
      ],
      "metadata": {
        "colab": {
          "base_uri": "https://localhost:8080/",
          "height": 36
        },
        "id": "aHW94WeEIuUy",
        "outputId": "e2ec8afd-1e03-4b01-b66e-8fda39e594ca"
      },
      "execution_count": 5,
      "outputs": [
        {
          "output_type": "execute_result",
          "data": {
            "text/plain": [
              "\"\\nmy_tuple('dog', 'cat', 'rabbit')\\nprint(my_tuple.index('cat'))\\n\""
            ],
            "application/vnd.google.colaboratory.intrinsic+json": {
              "type": "string"
            }
          },
          "metadata": {},
          "execution_count": 5
        }
      ]
    },
    {
      "cell_type": "code",
      "source": [
        "# Write a code to create a tuple containing three different fruits and check if \"kiwi\" is in it.\n",
        "\n",
        "'''\n",
        "my_tuple('apple', 'banana', 'orange')\n",
        "print('kiwi' in my_tuple)\n",
        "'''"
      ],
      "metadata": {
        "colab": {
          "base_uri": "https://localhost:8080/",
          "height": 36
        },
        "id": "TcZiXSVRJF8P",
        "outputId": "2634207b-8386-4703-c3ed-9c00bfc65b49"
      },
      "execution_count": 6,
      "outputs": [
        {
          "output_type": "execute_result",
          "data": {
            "text/plain": [
              "\"\\nmy_tuple('apple', 'banana', 'orange')\\nprint('kiwi' in my_tuple)\\n\""
            ],
            "application/vnd.google.colaboratory.intrinsic+json": {
              "type": "string"
            }
          },
          "metadata": {},
          "execution_count": 6
        }
      ]
    },
    {
      "cell_type": "code",
      "source": [
        "# Write a code to create a set with the elements 'a', 'b', 'c' and print it.\n",
        "\n",
        "'''\n",
        "my_set = {'a', 'b', 'c'}\n",
        "print(my_set)\n",
        "'''"
      ],
      "metadata": {
        "colab": {
          "base_uri": "https://localhost:8080/",
          "height": 36
        },
        "id": "AbBxHF6gJfDu",
        "outputId": "eeca16ee-07ac-465e-e6a9-85db27fdba85"
      },
      "execution_count": 7,
      "outputs": [
        {
          "output_type": "execute_result",
          "data": {
            "text/plain": [
              "\"\\nmy_set = {'a', 'b', 'c'}\\nprint(my_set)\\n\""
            ],
            "application/vnd.google.colaboratory.intrinsic+json": {
              "type": "string"
            }
          },
          "metadata": {},
          "execution_count": 7
        }
      ]
    },
    {
      "cell_type": "code",
      "source": [
        "# Write a code to clear all elements from the set {1, 2, 3, 4, 5}.\n",
        "\n",
        "'''\n",
        "my_set = {1, 2, 3, 4, 5}\n",
        "my_set.clear()\n",
        "'''"
      ],
      "metadata": {
        "colab": {
          "base_uri": "https://localhost:8080/",
          "height": 36
        },
        "id": "t5f5sOtoJrY5",
        "outputId": "e059368a-ae20-4159-c18d-c96b4973f239"
      },
      "execution_count": 8,
      "outputs": [
        {
          "output_type": "execute_result",
          "data": {
            "text/plain": [
              "'\\nmy_set = {1, 2, 3, 4, 5}\\nmy_set.clear()\\n'"
            ],
            "application/vnd.google.colaboratory.intrinsic+json": {
              "type": "string"
            }
          },
          "metadata": {},
          "execution_count": 8
        }
      ]
    },
    {
      "cell_type": "code",
      "source": [
        "# Write a code to remove the element 4 from the set {1, 2, 3, 4}.\n",
        "\n",
        "'''\n",
        "my_set = {1, 2, 3, 4}\n",
        "my_set.remove(4)\n",
        "'''"
      ],
      "metadata": {
        "colab": {
          "base_uri": "https://localhost:8080/",
          "height": 36
        },
        "id": "eDN47WuvJ32_",
        "outputId": "62ca8bf3-bd93-4b62-ec2a-998a0a061e88"
      },
      "execution_count": 9,
      "outputs": [
        {
          "output_type": "execute_result",
          "data": {
            "text/plain": [
              "'\\nmy_set = {1, 2, 3, 4}\\nmy_set.remove(4)\\n'"
            ],
            "application/vnd.google.colaboratory.intrinsic+json": {
              "type": "string"
            }
          },
          "metadata": {},
          "execution_count": 9
        }
      ]
    },
    {
      "cell_type": "code",
      "source": [
        "#  Write a code to find the union of two sets {1, 2, 3} and {3, 4, 5}.\n",
        "\n",
        "'''\n",
        "set1 = {1, 2, 3}\n",
        "set2 = {3, 4, 5}\n",
        "print(set1.union(set2))\n",
        "'''"
      ],
      "metadata": {
        "colab": {
          "base_uri": "https://localhost:8080/",
          "height": 36
        },
        "id": "gq4BJ4BrKM_N",
        "outputId": "101e4434-ee53-40e5-ea71-1b04a2a31933"
      },
      "execution_count": 10,
      "outputs": [
        {
          "output_type": "execute_result",
          "data": {
            "text/plain": [
              "'\\nset1 = {1, 2, 3}\\nset2 = {3, 4, 5}\\nprint(set1.union(set2))\\n'"
            ],
            "application/vnd.google.colaboratory.intrinsic+json": {
              "type": "string"
            }
          },
          "metadata": {},
          "execution_count": 10
        }
      ]
    },
    {
      "cell_type": "code",
      "source": [
        "# Write a code to find the intersection of two sets {1, 2, 3} and {2, 3, 4}.\n",
        "\n",
        "'''\n",
        "set1 = {1, 2, 3}\n",
        "set2 = {2, 3, 4}\n",
        "intersection_set = set1 & set2\n",
        "print(intersection_set)\n",
        "'''"
      ],
      "metadata": {
        "colab": {
          "base_uri": "https://localhost:8080/",
          "height": 36
        },
        "id": "v--cpBJhKc0L",
        "outputId": "fe4f6d7f-457c-439c-93fa-fe335aa239f9"
      },
      "execution_count": 11,
      "outputs": [
        {
          "output_type": "execute_result",
          "data": {
            "text/plain": [
              "'\\nset1 = {1, 2, 3}\\nset2 = {2, 3, 4}\\nintersection_set = set1 & set2\\nprint(intersection_set)\\n'"
            ],
            "application/vnd.google.colaboratory.intrinsic+json": {
              "type": "string"
            }
          },
          "metadata": {},
          "execution_count": 11
        }
      ]
    },
    {
      "cell_type": "code",
      "source": [
        "#  Write a code to create a dictionary with the keys \"name\", \"age\", and \"city\", and print it.\n",
        "\n",
        "'''\n",
        "my_dict = {'name': 'Aditya', 'age': 20. 'city': 'Delhi}\n",
        "print(my_dict)\n",
        "'''"
      ],
      "metadata": {
        "colab": {
          "base_uri": "https://localhost:8080/",
          "height": 36
        },
        "id": "lX5ZRBvIQyqp",
        "outputId": "7bc7f091-ebba-4bee-e352-c4b5a01009b3"
      },
      "execution_count": 14,
      "outputs": [
        {
          "output_type": "execute_result",
          "data": {
            "text/plain": [
              "\"\\nmy_dict = {'name': 'Aditya', 'age': 20. 'city': 'Delhi}\\nprint(my_dict)\\n\""
            ],
            "application/vnd.google.colaboratory.intrinsic+json": {
              "type": "string"
            }
          },
          "metadata": {},
          "execution_count": 14
        }
      ]
    },
    {
      "cell_type": "code",
      "source": [
        "#  Write a code to add a new key-value pair \"country\": \"USA\" to the dictionary {'name': 'John', 'age': 25}.\n",
        "\n",
        "'''\n",
        "my_dict = {'name': 'John', 'age': 25}\n",
        "my_dict['country'] = 'USA'\n",
        "print(my_dict)\n",
        "'''"
      ],
      "metadata": {
        "colab": {
          "base_uri": "https://localhost:8080/",
          "height": 36
        },
        "id": "6RJb3rW3Ro-l",
        "outputId": "0d9523ad-4c4d-45d0-cc47-8d49ae2f59e4"
      },
      "execution_count": 13,
      "outputs": [
        {
          "output_type": "execute_result",
          "data": {
            "text/plain": [
              "\"\\nmy_dict = {'name': 'John', 'age': 25}\\nmy_dict['country'] = 'USA'\\nprint(my_dict)\\n\""
            ],
            "application/vnd.google.colaboratory.intrinsic+json": {
              "type": "string"
            }
          },
          "metadata": {},
          "execution_count": 13
        }
      ]
    },
    {
      "cell_type": "code",
      "source": [
        "# Write a code to access the value associated with the key \"name\" in the dictionary {'name': 'Alice', 'age': 30}.\n",
        "\n",
        "'''\n",
        "my_dict = {'name': 'Alice', 'age': 30}\n",
        "print(my_dict['name'])\n",
        "'''"
      ],
      "metadata": {
        "colab": {
          "base_uri": "https://localhost:8080/",
          "height": 36
        },
        "id": "vhcJGVGTR-5k",
        "outputId": "497b67ee-8269-4c2f-c7d8-2021e15e8cb6"
      },
      "execution_count": 15,
      "outputs": [
        {
          "output_type": "execute_result",
          "data": {
            "text/plain": [
              "\"\\nmy_dict = {'name': 'Alice', 'age': 30}\\nprint(my_dict['name'])\\n\""
            ],
            "application/vnd.google.colaboratory.intrinsic+json": {
              "type": "string"
            }
          },
          "metadata": {},
          "execution_count": 15
        }
      ]
    },
    {
      "cell_type": "code",
      "source": [
        "# Write a code to remove the key \"age\" from the dictionary {'name': 'Bob', 'age': 22, 'city': 'New York'}.\n",
        "\n",
        "'''\n",
        "my_dict = {'name': 'bob. 'age': 22, 'city': 'New York'}\n",
        "del my_dict[age]\n",
        "'''"
      ],
      "metadata": {
        "colab": {
          "base_uri": "https://localhost:8080/",
          "height": 36
        },
        "id": "UP-aRCYLSr30",
        "outputId": "b9f57f14-8a88-44c7-ed9e-d71066103f6b"
      },
      "execution_count": 16,
      "outputs": [
        {
          "output_type": "execute_result",
          "data": {
            "text/plain": [
              "\"\\nmy_dict = {'name': 'bob. 'age': 22, 'city': 'New York'}\\ndel my_dict[age]\\n\""
            ],
            "application/vnd.google.colaboratory.intrinsic+json": {
              "type": "string"
            }
          },
          "metadata": {},
          "execution_count": 16
        }
      ]
    },
    {
      "cell_type": "code",
      "source": [
        "# Write a code to check if the key \"city\" exists in the dictionary {'name': 'Alice', 'city': 'Paris'}.\n",
        "\n",
        "'''\n",
        "my_dict = {'name': 'Alice', 'city': 'Paris'}\n",
        "print('city' in my_dict)\n",
        "'''"
      ],
      "metadata": {
        "colab": {
          "base_uri": "https://localhost:8080/",
          "height": 36
        },
        "id": "M7ZC9NOATG-J",
        "outputId": "46876b40-b2b6-454d-e6ae-e60cd979fe7f"
      },
      "execution_count": 1,
      "outputs": [
        {
          "output_type": "execute_result",
          "data": {
            "text/plain": [
              "\"\\nmy_dict = {'name': 'Alice', 'city': 'Paris'}\\nprint('city' in my_dict)\\n\""
            ],
            "application/vnd.google.colaboratory.intrinsic+json": {
              "type": "string"
            }
          },
          "metadata": {},
          "execution_count": 1
        }
      ]
    },
    {
      "cell_type": "code",
      "source": [
        "# Write a code to create a list, a tuple, and a dictionary, and print them all.\n",
        "\n",
        "'''\n",
        "my_list = [1, 2, 3, 4, 5]\n",
        "my_tuple = (1, 2, 3, 4, 5)\n",
        "my_dict = {'name': 'Aditya', 'age': 20}\n",
        "print(my_list)\n",
        "print(my_tuple)\n",
        "print(my_dict)\n",
        "'''"
      ],
      "metadata": {
        "colab": {
          "base_uri": "https://localhost:8080/",
          "height": 53
        },
        "id": "-CK0iDVajJ-_",
        "outputId": "98537729-c4b5-455d-b5ee-330f19ca8328"
      },
      "execution_count": 3,
      "outputs": [
        {
          "output_type": "execute_result",
          "data": {
            "text/plain": [
              "\"\\nmy_list = [1, 2, 3, 4, 5]\\nmy_tuple = (1, 2, 3, 4, 5)\\nmy_dict = {'name': 'Aditya', 'age': 20}\\nprint(my_list)\\nprint(my_tuple)\\nprint(my_dict)\\n\""
            ],
            "application/vnd.google.colaboratory.intrinsic+json": {
              "type": "string"
            }
          },
          "metadata": {},
          "execution_count": 3
        }
      ]
    },
    {
      "cell_type": "code",
      "source": [
        "#  Write a code to create a list of 5 random numbers between 1 and 100, sort it in ascending order, and print the result.(replaced)\n",
        "\n",
        "'''\n",
        "my_list = [1, 89. 45, 67, 22]\n",
        "my_list.sort()\n",
        "print(my_list)\n",
        "'''\n"
      ],
      "metadata": {
        "colab": {
          "base_uri": "https://localhost:8080/",
          "height": 36
        },
        "id": "P3aSNZcRjwQv",
        "outputId": "c4d5717b-a8e2-4606-fe4d-d13bc27029e0"
      },
      "execution_count": 4,
      "outputs": [
        {
          "output_type": "execute_result",
          "data": {
            "text/plain": [
              "'\\nmy_list = [1, 89. 45, 67, 22]\\nmy_list.sort()\\nprint(my_list)\\n'"
            ],
            "application/vnd.google.colaboratory.intrinsic+json": {
              "type": "string"
            }
          },
          "metadata": {},
          "execution_count": 4
        }
      ]
    },
    {
      "cell_type": "code",
      "source": [
        "# Write a code to create a list with strings and print the element at the third index.\n",
        "\n",
        "'''\n",
        "my_list = ['apple', 'banana', 'mango', 'kiwi']\n",
        "print(my_list[2])\n",
        "'''"
      ],
      "metadata": {
        "colab": {
          "base_uri": "https://localhost:8080/",
          "height": 36
        },
        "id": "VfaqgYAykYMX",
        "outputId": "8fad5567-f14d-4128-c7e0-920d8bd1fc53"
      },
      "execution_count": 5,
      "outputs": [
        {
          "output_type": "execute_result",
          "data": {
            "text/plain": [
              "\"\\nmy_list = ['apple', 'banana', 'mango', 'kiwi']\\nprint(my_list[2])\\n\""
            ],
            "application/vnd.google.colaboratory.intrinsic+json": {
              "type": "string"
            }
          },
          "metadata": {},
          "execution_count": 5
        }
      ]
    },
    {
      "cell_type": "code",
      "source": [
        "# Write a code to combine two dictionaries into one and print the result.\n",
        "\n",
        "'''\n",
        "dict1 = {'a': 1, 'b': 2}\n",
        "dict2 = {'c': 3, 'd': 4}\n",
        "dict1.update (dict2)\n",
        "print(dict1)\n",
        "'''"
      ],
      "metadata": {
        "colab": {
          "base_uri": "https://localhost:8080/",
          "height": 36
        },
        "id": "a4_F3QG1k3xO",
        "outputId": "63540e5b-a715-4806-ac96-0bcc0a274fa7"
      },
      "execution_count": 6,
      "outputs": [
        {
          "output_type": "execute_result",
          "data": {
            "text/plain": [
              "\"\\ndict1 = {'a': 1, 'b': 2}\\ndict2 = {'c': 3, 'd': 4}\\ndict1.update (dict2)\\nprint(dict1)\\n\""
            ],
            "application/vnd.google.colaboratory.intrinsic+json": {
              "type": "string"
            }
          },
          "metadata": {},
          "execution_count": 6
        }
      ]
    },
    {
      "cell_type": "code",
      "source": [
        "# Write a code to convert a list of strings into a set.\n",
        "\n",
        "'''\n",
        "my_list_of_strings = ['apple', 'banana', 'apple', 'orange']\n",
        "my_set_of_strings = set(my_list_of_strings)\n",
        "print(f\"'Original list': {my_list_of_strings})\n",
        "print(f\"'Converted set': {my_set_of_strings})\n",
        "'''"
      ],
      "metadata": {
        "colab": {
          "base_uri": "https://localhost:8080/",
          "height": 53
        },
        "id": "d7Qd3LTrlXds",
        "outputId": "dbe410c1-870e-4f6e-b521-17261b551b3f"
      },
      "execution_count": 7,
      "outputs": [
        {
          "output_type": "execute_result",
          "data": {
            "text/plain": [
              "'\\nmy_list_of_strings = [\\'apple\\', \\'banana\\', \\'apple\\', \\'orange\\']\\nmy_set_of_strings = set(my_list_of_strings)\\nprint(f\"\\'Original list\\': {my_list_of_strings})\\nprint(f\"\\'Converted set\\': {my_set_of_strings})\\n'"
            ],
            "application/vnd.google.colaboratory.intrinsic+json": {
              "type": "string"
            }
          },
          "metadata": {},
          "execution_count": 7
        }
      ]
    }
  ]
}